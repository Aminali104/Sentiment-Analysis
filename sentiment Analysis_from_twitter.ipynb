{
 "cells": [
  {
   "cell_type": "markdown",
   "metadata": {},
   "source": [
    "## The primary function of this project is to find out the sentiment of the people from the twitter by using web scrapping and python"
   ]
  },
  {
   "cell_type": "code",
   "execution_count": 26,
   "metadata": {},
   "outputs": [],
   "source": [
    "import requests\n",
    "from lxml import html\n",
    "from textblob import TextBlob"
   ]
  },
  {
   "cell_type": "code",
   "execution_count": 31,
   "metadata": {},
   "outputs": [
    {
     "name": "stdout",
     "output_type": "stream",
     "text": [
      "enter the urlhttps://twitter.com\n",
      "enter the username@RahulGandhi\n",
      "enter the status id1028850779145334789\n",
      "https://twitter.com/RahulGandhi/status/1028850779145334789\n",
      "<Response [200]>\n",
      "200\n",
      "['I mourn the passing away of Shri Somnath Chatterjee, 10 term MP and former Speaker of the Lok Sabha. He was an institution. Greatly respected and admired by all parliamentarians, across party lines. My condolences to his family at this time of grief. \\n\\n']\n",
      "Comment :644\n",
      "Retweet :4373\n",
      "Like    :15085\n",
      "Messages:3\n",
      "0.0\n",
      "positive sentiment\n"
     ]
    }
   ],
   "source": [
    "class Rahul:\n",
    "    #def setter(self,url='',a='',b=''):\n",
    "        #self.u=url\n",
    "        #self.a=a\n",
    "        #self.b=b\n",
    "        \n",
    "    def __init__(self,url='',a='',b=''):\n",
    "        self.merge=url+'/'+a+'/status/'+b\n",
    "        print(self.merge)\n",
    "        self.scrap(self.merge)\n",
    "    \n",
    "    def scrap(self,merge):\n",
    "        response=requests.get(self.merge) #giving request to the wesite as a take response\n",
    "        print(response)\n",
    "        s=response.status_code\n",
    "        print(s)\n",
    "        p=response.content\n",
    "        tree=html.fromstring(p)\n",
    "        tweet_txt=tree.xpath(\".//p[@class='TweetTextSize TweetTextSize--jumbo js-tweet-text tweet-text']/text()\")\n",
    "        tweet_comment=tree.xpath(\".//span[@class='ProfileTweet-actionCount']/@data-tweet-stat-count\")[0]\n",
    "        retweet=tree.xpath(\".//span[@class='ProfileTweet-actionCount']/@data-tweet-stat-count\")[1]\n",
    "        tweeter_like=tree.xpath(\".//span[@class='ProfileTweet-actionCount']/@data-tweet-stat-count\")[2]\n",
    "        number_of_message=tree.xpath(\".//span[@class='ProfileTweet-actionCount']/@data-tweet-stat-count\")[3]\n",
    "        print(tweet_txt)\n",
    "        print(\"Comment :\"+tweet_comment)\n",
    "        print(\"Retweet :\"+retweet)\n",
    "        print(\"Like    :\"+tweeter_like)\n",
    "        print(\"Messages:\"+number_of_message)\n",
    "        tweet_txt=' '.join(tweet_txt)\n",
    "        obj=TextBlob(tweet_txt)\n",
    "        sentiment=obj.sentiment.polarity\n",
    "        print(sentiment)\n",
    "        if (sentiment>=0):        \n",
    "            print(\"positive sentiment\") #printing the positive sentiment\n",
    "        else:\n",
    "            print(\"Negative sentiment\") #printing the negative sentiment\n",
    "            \n",
    "        \n",
    "        \n",
    "u=input(\"enter the url\")   #taking website url from the user\n",
    "a=input(\"enter the username\")  #taking the username of the twitter\n",
    "b=input(\"enter the status id\") #required user id from where we want to get sentiment\n",
    "a=a[1:len(a)]\n",
    "\n",
    "r1=Rahul(u,a,b)\n",
    "    \n",
    "   "
   ]
  },
  {
   "cell_type": "code",
   "execution_count": null,
   "metadata": {},
   "outputs": [],
   "source": []
  },
  {
   "cell_type": "raw",
   "metadata": {},
   "source": []
  }
 ],
 "metadata": {
  "kernelspec": {
   "display_name": "Python 3",
   "language": "python",
   "name": "python3"
  },
  "language_info": {
   "codemirror_mode": {
    "name": "ipython",
    "version": 3
   },
   "file_extension": ".py",
   "mimetype": "text/x-python",
   "name": "python",
   "nbconvert_exporter": "python",
   "pygments_lexer": "ipython3",
   "version": "3.6.5"
  }
 },
 "nbformat": 4,
 "nbformat_minor": 2
}
